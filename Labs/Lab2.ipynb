{
 "cells": [
  {
   "cell_type": "markdown",
   "metadata": {},
   "source": [
    "## Week 2: Regression"
   ]
  },
  {
   "cell_type": "markdown",
   "metadata": {
    "collapsed": true
   },
   "source": [
    "This week, you will start learning and applying your first ML models"
   ]
  },
  {
   "cell_type": "markdown",
   "metadata": {},
   "source": [
    "#### 1. Overfitting and regression in high dimension\n",
    "\n",
    "As a first exercise, we will see that behind the name 'linear regression' is in fact hidden a lot. Consider the function. \n",
    "\n",
    "\n",
    "- Is the relation $t = f(x)$ linear or non linear?\n",
    "\n",
    "- How about the relation $t = f(x, x^2)$ ?\n",
    "\n",
    "__1.1.__To get some intuition on this, start by plot the function $t=f(x)$ below (use linspace together with 50 points)"
   ]
  },
  {
   "cell_type": "code",
   "execution_count": null,
   "metadata": {},
   "outputs": [],
   "source": [
    "import numpy as np\n",
    "import matplotlib.pyplot as plt\n",
    "\n",
    "# plot the relation $t = f(x)$\n",
    "\n"
   ]
  },
  {
   "cell_type": "markdown",
   "metadata": {},
   "source": [
    "__1.2__ Then in the cell below, plot the two dimensional plane $t = f(x, x^2) = f(x,y)$ (use meshgrid together with 50x 50 points). Plot the points $(t, x, x^2)$ on top of the plane. "
   ]
  },
  {
   "cell_type": "code",
   "execution_count": null,
   "metadata": {},
   "outputs": [],
   "source": [
    "from mpl_toolkits.mplot3d import Axes3D\n",
    "\n",
    "\n"
   ]
  },
  {
   "cell_type": "markdown",
   "metadata": {},
   "source": [
    "We have thus turned a non linear relationship between prototypes $x$ and their targets $t$, into a linear relationship encoded by the plane $t = x+y$ where $y = x^2$. In general regression will work like this. Given some pairs of prototypes and their associated targets $(t_i, x_i)$, even when the relation between the prototypes and the target is non linear in the original space, one can generate additional \"features\", for example, powers of monomials 'x^2', 'x^3', x^4, ... but also any non linear function of the data such as \"sin(x)\", \"e^x\", ...\n",
    "\n",
    "and then learn a linear regression model on the newly defined feature vectors $(x, y= x^2, z= sin(x), ...)$ and the label \"t\". If we forget that the coordinates \n",
    "\n",
    "\n",
    "Many machine learning models, will proceed like this. They will first lift the data in some higher dimensional space where the model is learned. Then we can bring our prediction back into the original space by selecting only the first coordinate of the pair $(x,y) = (x,x^2)$"
   ]
  },
  {
   "cell_type": "markdown",
   "metadata": {},
   "source": [
    "__1.3.__ The problem that often arises with this approach is that when we don't have any intuition on the relation between the prototypes $x_i$ and their targets $t_i$, we might be tempted to add many features or basis functions which then results in a too high complexity of the model and hence overfitting. To illustrate this, let us go back to the quadratic relation above.  \n",
    "\n",
    "Go back to the pairs $x_i, t_i$ that you generated from the relation $t_i = x_i +x_i^2$ above. Now generate a subset of $20$ points and add some random Gaussian noise on the labels $t_i$, just to get \n",
    "\n",
    "$$t_i = x_i + x_i^2 + \\varepsilon_i$$\n",
    "\n",
    "plot the resulting points on top of the function $t = f(x)$ first and do the same with the plane."
   ]
  },
  {
   "cell_type": "code",
   "execution_count": null,
   "metadata": {},
   "outputs": [],
   "source": [
    "import numpy as np\n",
    "import matplotlib.pyplot as plt\n",
    "\n",
    "\n",
    "\n"
   ]
  },
  {
   "cell_type": "markdown",
   "metadata": {},
   "source": [
    "__1.4__ Then generate all possible monomials of degrees less than 6 from the prototypes $x_i$ (the noisy samples). You can either do it manually or use the built in function 'PolynomialFeatures' from scikit-learn"
   ]
  },
  {
   "cell_type": "code",
   "execution_count": 41,
   "metadata": {
    "collapsed": true
   },
   "outputs": [],
   "source": [
    "import numpy as np\n",
    "from sklearn.preprocessing import PolynomialFeatures\n",
    "\n"
   ]
  },
  {
   "cell_type": "markdown",
   "metadata": {},
   "source": [
    "__1.5__ Now use the function 'linear_regression' from scikit-learn to learn the higher dimensional regression model using the powers of $x2$ and you noisy labels $t_noisy$"
   ]
  },
  {
   "cell_type": "code",
   "execution_count": null,
   "metadata": {},
   "outputs": [],
   "source": [
    "from sklearn import linear_model\n",
    "from sklearn.linear_model import LinearRegression\n",
    "\n",
    "\n"
   ]
  },
  {
   "cell_type": "markdown",
   "metadata": {},
   "source": [
    "__1.6__ Once you have learned the model, we will now use it to do predictions as follows:\n",
    "    \n",
    "   - Start by generating points using linspace between -10 and 10 (lets say 100)\n",
    "   - Raise those points to power 1 to 6 using PolynomialFeatures\n",
    "   - use the function predict of your linear_regression model to get the labels\n",
    "   - plot the predicted pairs (x, t)"
   ]
  },
  {
   "cell_type": "code",
   "execution_count": null,
   "metadata": {},
   "outputs": [],
   "source": [
    "# put the code here\n",
    "\n"
   ]
  },
  {
   "cell_type": "markdown",
   "metadata": {},
   "source": [
    "__1.7__ Repeat the experiments above for 12 and then 24 features. What do you notice?"
   ]
  },
  {
   "cell_type": "markdown",
   "metadata": {},
   "source": [
    "### 2. Regularization "
   ]
  },
  {
   "cell_type": "markdown",
   "metadata": {},
   "source": [
    "We have seen that a high complexity is not always a good idea. In particular, if the model can be expressed by fewer parameters we should always aim at selecting the greater simplicity. However this simplicity is often hidden in the data and is therefore not blatant to the naked eye. For this reason, having a general procedure that one can apply to the data and whose complexity could be easilty adapter to this data, would be much appreciated. This idea of adapting model complexity to the data is precisely the objective of regularization."
   ]
  },
  {
   "cell_type": "markdown",
   "metadata": {},
   "source": [
    "__2.1__ Regularization comes in many different flavors. But the most common models are based on putting some constraints on the number of parameters of the model, or, on the magnitude of those parameters in order to avoid the large variation that we observed when considering the model with the $24$ polynomial features. "
   ]
  },
  {
   "cell_type": "markdown",
   "metadata": {},
   "source": [
    "The three most common regularization approaches are the $\\ell_2$, $\\ell_1$ and Best subset selection approaches. In each of these approaches, instead of solving the original regression problem\n",
    "\n",
    "\\begin{align}\n",
    "\\min_{\\beta_1,\\beta_2, \\ldots, \\beta_D} \\sum_{i=1}^N |t_i - \\sum_{\\ell=1}^D \\beta_\\ell x_{\\ell,i}|^2 \n",
    "\\end{align}\n",
    "\n",
    "we will augment our loss with a penalty.\n",
    "\n",
    "\n",
    "- In Ridge Regression, the penalty is the $2$ norm \n",
    "$$\\|\\beta\\|_2 = \\sqrt{\\sum_{i=1}^N \\beta_i^2}$$\n",
    "- In Lasso, the penalty is the $1$ norm (sum of the absolute values)\n",
    "$$\\|\\beta\\|_1 = \\sum_{i=1}^N |\\beta_i^2|$$\n",
    "\n",
    "- In Best subset selection, we compute, for every every possible subset of coefficients $(\\beta_0, \\beta_1, \\ldots, \\beta_D)$, the value of the loss on the prediction data and we select the subset (of each chosen size) that minimizes the value of the loss. From this, we thus have a sequence of best subsets of coefficients for each size parameter $K$. \n",
    "\n",
    "\n"
   ]
  },
  {
   "cell_type": "markdown",
   "metadata": {},
   "source": [
    "- The last approach is computationally expensive because of the ${N\\choose k}$ that appears in the number of subsets. For this reason we won't apply it on the 6 feature. However you can implement it for 3 features. \n",
    "\n",
    "- Ridge regression and Lasso are very popular and are preimplented in scikit-learn. Try rach approach for different values of lambda on the 6 feature dataset above (don't forget the noise). Then try those approach with 12 and 24 features and plot the resulting model as we did in the case of a simple regression formulation. How do the models compare to each other?\n",
    "\n"
   ]
  },
  {
   "cell_type": "markdown",
   "metadata": {},
   "source": [
    "__2.2. Cross validation on $\\lambda$ and $K$.__ \n",
    "\n",
    "Be it for the best subset selection approach, or for the ridge and lasso models, one question remain: How does one choose the last parameters $K$ and $lambda$. \n",
    "\n",
    "This last step is carried out through some validation or cross validation step.\n",
    "\n",
    "The simplest possible approach could be to split the original dataset between a training and a test part. Another approach is to split the data into $k$ bins. For each bin, the model is trained using the datapoints in $\\mathcal{D}\\setminus B_k$, that is all the prorotypes that are not in $B_k$ and the prediction error for a given subset size or for a value of $\\lambda$. The total error is then computed as the average \n",
    "\n",
    "\\begin{align}\n",
    "CV(\\lambda) = \\frac{1}{N}\\sum_{i=1}^N \\ell(t_i, f^{k(i)}(x_i))\n",
    "\\end{align}\n",
    "where $f^k$ denotes the model learned with the points the bin $k(i)$. The procedure is then repeated for the various values of $\\lambda$ the (hyper)-parameter that minimizes the prediction error is then selected. \n",
    "\n",
    "- For various value of $\\lambda$, using either of leave one out, K-fold or simply any training/test splitting of the dataset, plot the evolution of the training and test error"
   ]
  },
  {
   "cell_type": "code",
   "execution_count": null,
   "metadata": {
    "collapsed": true
   },
   "outputs": [],
   "source": [
    "# put your code here\n",
    "\n",
    "\n"
   ]
  },
  {
   "cell_type": "markdown",
   "metadata": {},
   "source": [
    "### 3. Real data"
   ]
  },
  {
   "cell_type": "markdown",
   "metadata": {},
   "source": [
    "Now that you are familiar with regression, we will apply it to some real data. Use the line below to load the Google stock value between 2017-01-01 and 2017-04-30. Then using the train/test decomposition given below. Learn a good 'time vs stock value' regression model and apply it on the test data to see how well it an predict future values. "
   ]
  },
  {
   "cell_type": "code",
   "execution_count": null,
   "metadata": {
    "collapsed": true
   },
   "outputs": [],
   "source": [
    "import pandas as pd\n",
    "import numpy as np\n",
    "pd.core.common.is_list_like = pd.api.types.is_list_like\n",
    "\n",
    "from pandas_datareader import data as pdr\n",
    "\n",
    "import matplotlib.pyplot as plt\n",
    "\n",
    "import fix_yahoo_finance as yf\n",
    "yf.pdr_override() # <== that's all it takes :-)\n",
    "\n",
    "# download dataframe\n",
    "data1 = pdr.get_data_yahoo(\"GOOGL\", start=\"2017-01-01\", end=\"2017-04-30\")\n",
    "\n",
    "\n",
    "\n",
    "close = data1['Close']\n",
    "\n",
    "all_weekdays = pd.date_range(start=\"2017-01-01\", end=\"2017-04-30\", freq='B')\n",
    "\n",
    "# How do we align the existing prices in adj_close with our new set of dates?\n",
    "# All we need to do is reindex close using all_weekdays as the new index\n",
    "close = close.reindex(all_weekdays)\n",
    "\n",
    "close = close.fillna(method='ffill')\n",
    "\n",
    "\n",
    "msft = close#.loc['SPY']\n",
    "\n",
    "# Calculate the 20 and 100 days moving averages of the closing prices\n",
    "short_rolling_msft = msft.rolling(window=20).mean()\n",
    "long_rolling_msft = msft.rolling(window=100).mean()\n",
    "\n",
    "msft = msft.dropna()\n",
    "#msft_norm = (msft - msft.mean()) / (msft.max() - msft.min())\n",
    "\n",
    "\n",
    "tmp = msft.index\n",
    "numDays = tmp.shape[0]\n",
    "\n",
    "days = np.arange(1,numDays+1)\n",
    "\n",
    "# normalized prices\n",
    "print(msft.index)\n",
    "\n",
    "\n",
    "tmp1 = 60\n",
    "\n",
    "X_train = days[0:tmp1]\n",
    "X_test = days[tmp1:]\n",
    "\n",
    "y_train = msft[0:tmp1]\n",
    "y_test = msft[tmp1:]\n",
    "\n",
    "# Applying the regression model"
   ]
  }
 ],
 "metadata": {
  "kernelspec": {
   "display_name": "Python 2",
   "language": "python",
   "name": "python2"
  },
  "language_info": {
   "codemirror_mode": {
    "name": "ipython",
    "version": 2
   },
   "file_extension": ".py",
   "mimetype": "text/x-python",
   "name": "python",
   "nbconvert_exporter": "python",
   "pygments_lexer": "ipython2",
   "version": "2.7.13"
  }
 },
 "nbformat": 4,
 "nbformat_minor": 2
}
