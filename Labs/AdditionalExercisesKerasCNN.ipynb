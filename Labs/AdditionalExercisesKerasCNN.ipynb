{
 "cells": [
  {
   "cell_type": "markdown",
   "metadata": {},
   "source": [
    "## Week 13: Additional exercises on Keras"
   ]
  },
  {
   "cell_type": "markdown",
   "metadata": {},
   "source": [
    "Before looking at deep reinforcement learning, we will review some of the commands from keras. "
   ]
  },
  {
   "cell_type": "markdown",
   "metadata": {},
   "source": [
    "### Exercise 1. Warm up\n",
    "\n",
    "As a first exercise, try to fit the dataset below using \n",
    "\n",
    "- __1.__ A neural network from scikit-learn \n",
    "- __2.__ A neural network from Keras\n",
    "\n",
    "Recall that in keras, just as scikit-learn, fitting the model to the data is done through a call to the method .fit. A call to the method .predict can then be used to validate the model on the test set.\n",
    "\n",
    "\n",
    "You can choose different activation functions and losses. Also try different number of layers and numbers of neurons.  "
   ]
  },
  {
   "cell_type": "code",
   "execution_count": 21,
   "metadata": {},
   "outputs": [
    {
     "name": "stdout",
     "output_type": "stream",
     "text": [
      "(100, 5)\n",
      "(100, 5)\n",
      "(5, 100)\n"
     ]
    },
    {
     "data": {
      "image/png": "[encoded data removed]",
      "text/plain": [
       "<Figure size 432x288 with 1 Axes>"
      ]
     },
     "metadata": {},
     "output_type": "display_data"
    }
   ],
   "source": [
    "import numpy as np \n",
    "import matplotlib.pyplot as plt\n",
    "\n",
    "# generating a random polynomial \n",
    "x = np.linspace(0,10,100)\n",
    "x = np.sin(x)\n",
    "y = np.random.normal(2, 5, 5)\n",
    "expo1 = np.arange(0,len(y))\n",
    "\n",
    "expo2 = np.tile(expo1, (len(x),1 ))\n",
    "y2 = np.tile(y, (len(x),1 ))\n",
    "x2 = np.tile(x, (len(y),1 ))\n",
    "\n",
    "print(np.shape(expo2))\n",
    "print(np.shape(y2))\n",
    "print(np.shape(x2))\n",
    "\n",
    "x2 = x2.T\n",
    "\n",
    "out1 = np.power(x2, expo2)\n",
    "out1b = np.multiply(out1, y2)\n",
    "out1c = np.sum(out1b, axis=1)\n",
    "\n",
    "plt.plot(out1c.flatten())\n",
    "\n",
    "\n",
    "out1d = out1c + np.random.normal(0, .4, len(out1c))\n",
    "\n",
    "plt.plot(out1d.flatten(), '*r')\n",
    "plt.show()\n",
    "\n",
    "\n",
    "\n"
   ]
  },
  {
   "cell_type": "code",
   "execution_count": null,
   "metadata": {
    "collapsed": true
   },
   "outputs": [],
   "source": [
    "# build your keras neural network here\n",
    "\n",
    "from keras.models import Sequential\n",
    "model = Sequential()\n"
   ]
  },
  {
   "cell_type": "markdown",
   "metadata": {},
   "source": [
    "### Exercise 2. A detour through conv nets\n",
    "\n",
    "As we saw earlier, neural network have become particularly interesting for two main applications:\n",
    "    \n",
    "   - Text processing \n",
    "   - Image processing \n",
    "    \n",
    "In the second framework, one architecture in particular, convolutional neural networks, has revealed especially powerful. In convolutional neural network, instead of simple linear combinations of the outputs to the previous layers, each layer outpus an image and each neuron computes the convolution of particular filters with this image. Go to Kaggle and download the [German Traffic Sign Recognition Benchmark](https://www.kaggle.com/meowmeowmeowmeowmeow/gtsrb-german-traffic-sign) (GTSRB). In this exercise we will study how to use convolutional neural net to discriminate between road signs. \n",
    "\n",
    "The functions below (courtesy of Sasank Chilamkurthy) can be used to preprocess the images and extract their labels. \n",
    "\n",
    "Don't forget to modify the link to your GTSRB folder."
   ]
  },
  {
   "cell_type": "code",
   "execution_count": null,
   "metadata": {
    "collapsed": true
   },
   "outputs": [],
   "source": [
    "import numpy as np # linear algebra\n",
    "import pandas as pd # data processing, CSV file I/O (e.g. pd.read_csv)\n",
    "import os\n",
    "import matplotlib.pyplot as plt\n",
    "from PIL import Image\n",
    "import cv2\n",
    "import random\n",
    "import tensorflow as tf\n",
    "from tensorflow.keras.optimizers import RMSprop\n",
    "from tensorflow.keras.optimizers import Adam\n",
    "from tensorflow.keras.preprocessing.image import ImageDataGenerator\n",
    "from tensorflow.keras.utils import to_categorical\n",
    "from shutil import copyfile, rmtree\n",
    "from timeit import default_timer as timer"
   ]
  },
  {
   "cell_type": "markdown",
   "metadata": {},
   "source": [
    "Use the lines below to display the info on the training data. "
   ]
  },
  {
   "cell_type": "code",
   "execution_count": null,
   "metadata": {
    "collapsed": true
   },
   "outputs": [],
   "source": [
    "train_info = pd.read_csv(from_input(\"Train.csv\"))\n",
    "train_info.head()\n",
    "\n",
    "\n",
    "test_info =  pd.read_csv(from_input(\"Test.csv\"))\n",
    "test_info.head()"
   ]
  },
  {
   "cell_type": "markdown",
   "metadata": {},
   "source": [
    "The images have different size and in order to apply our network to the dataset, we thus first need to crop every image to some predefined size. We decide to fix this size to (40,40). Start by truncating the images from the dataset to this predefined size. "
   ]
  },
  {
   "cell_type": "code",
   "execution_count": null,
   "metadata": {
    "collapsed": true
   },
   "outputs": [],
   "source": [
    "for i, f in number_images\n",
    "\n",
    "    image = 0 # load the image  \n",
    "    resized_image = 0# crop the image to the appropriate (40,40) size\n",
    "    data.append(np.array(resized_image))\n",
    "\n",
    "\n",
    "X_train = np.array(data).astype('float32') / 255.0"
   ]
  },
  {
   "cell_type": "markdown",
   "metadata": {},
   "source": [
    "Store the labels corresponding to your image (make sure the labels are sorted) in a vector y_train. Then turn those labels into categorical encodings using the line below "
   ]
  },
  {
   "cell_type": "code",
   "execution_count": null,
   "metadata": {
    "collapsed": true
   },
   "outputs": [],
   "source": [
    "y_train = to_categorical(y_train, 43)"
   ]
  },
  {
   "cell_type": "markdown",
   "metadata": {},
   "source": [
    "We will now build a convolutional network with Keras. We don't need it to be too large. Take a Sequential model. \n",
    "\n",
    " - Start with layers of 2D convolutions with 3 by 3 filters and Relu activation functions. The size of the input should be the size of the cropped images extended with a third dimension which we will use to encode the RGB triples \n",
    "\n",
    " - Add a 2 by 2 pooling layer (Do you remember what pooling does ?)\n",
    " - flatten the output\n",
    " - Finally add a dense layer. This layer should output a vector of size equal to the number of different road signs. We want the final output to be binary so you can choose the activation but the softmax is good one for this framework.  \n",
    " \n",
    "Once you have assembled the model, check its structure with 'model.summary()' "
   ]
  },
  {
   "cell_type": "code",
   "execution_count": null,
   "metadata": {
    "collapsed": true
   },
   "outputs": [],
   "source": [
    "model = tf.keras.models.Sequential() # Add the model structure \n",
    "\n",
    "model.summary()"
   ]
  },
  {
   "cell_type": "markdown",
   "metadata": {},
   "source": [
    "Before we can train the model, we need to specify the optimization algorithm we want to use (whether we use GD, SGD, how many samples we want in each batch and so on). This is done through a call to the compile function of your model. \n",
    "\n",
    "- We will use ADAM as our optimization routine, \n",
    "- We wil take a categorical crossentropy loss (extension of binary cross entropy to the multiclass problem):\n",
    "\n",
    "$$\\ell(w) = -\\frac{1}{N}\\sum_{\\mathcal{C}}\\sum_{i=1}^N  I_{x_i\\in \\mathcal{C}}\\; log(y(x_i))$$\n",
    "\n",
    "'i' runs over the samples in the batch. $\\mathcal{C}$ encodes the classes (different  road signs here) in the model. $I_{x_i\\in \\mathcal{C}}$ is the indicator function of the class $\\mathcal{C}$ which turn to $1$ when $x_i\\in \\mathcal{C}$ and $0$ otherwise. \n",
    "\n",
    "- We set the 'metrics' to accuracy which means we maximize the number of correct classifications. \n"
   ]
  },
  {
   "cell_type": "code",
   "execution_count": null,
   "metadata": {
    "collapsed": true
   },
   "outputs": [],
   "source": []
  },
  {
   "cell_type": "markdown",
   "metadata": {},
   "source": [
    "You can use the function 'tf.keras.utils.plot_model' to get a visual representation of your model"
   ]
  },
  {
   "cell_type": "code",
   "execution_count": null,
   "metadata": {
    "collapsed": true
   },
   "outputs": [],
   "source": []
  }
 ],
 "metadata": {
  "kernelspec": {
   "display_name": "Python 2",
   "language": "python",
   "name": "python2"
  },
  "language_info": {
   "codemirror_mode": {
    "name": "ipython",
    "version": 2
   },
   "file_extension": ".py",
   "mimetype": "text/x-python",
   "name": "python",
   "nbconvert_exporter": "python",
   "pygments_lexer": "ipython2",
   "version": "2.7.13"
  }
 },
 "nbformat": 4,
 "nbformat_minor": 2
}
