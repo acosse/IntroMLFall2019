{
 "cells": [
  {
   "cell_type": "markdown",
   "metadata": {
    "collapsed": true
   },
   "source": [
    "## Assignment 2 \n",
    "\n",
    "## Inceptionism, Video Surveillance and Motion detection\n",
    "\n",
    "Given date: November 17th\n",
    "\n",
    "Due date: December 6th  \n",
    "\n",
    "Total : 40pts + 6pts \n",
    "\n",
    "Additional readings (To go further): \n",
    " - [Google AI post on \"inceptionism\"](https://ai.googleblog.com/2015/06/inceptionism-going-deeper-into-neural.html)\n",
    " - [Dumitru Erhan, Yoshua Bengio, Aaron Courville, and Pascal Vincent, Visualizing Higher-Layer Features of a Deep Network](https://pdfs.semanticscholar.org/65d9/94fb778a8d9e0f632659fb33a082949a50d3.pdf)\n",
    " - [On the Applications of Robust PCA in Image and Video Processing, T. Bouwmans, S. Javed, H. Zhang, Z. Lin, R. Otazo](https://hal.archives-ouvertes.fr/hal-01891028/document)\n",
    " - [Robust principal component analysis? EJ Candès, X Li, Y Ma, J Wright ](https://arxiv.org/pdf/0912.3599.pdf)\n",
    " - [Locally linear denoising on image manifolds, D. Gong, F. Sha G. Medioni](http://proceedings.mlr.press/v9/gong10a/gong10a.pdf)\n",
    " - [Nonlinear Image Interpolation using Manifold Learning, C Bregler, S. M. Omohundro'](https://pdfs.semanticscholar.org/9090/d0c4de232112602e0cb3b313c88016261dd0.pdf)\n",
    "\n",
    "The assignment is divided into three parts. In the first part, we will go back to neural networks. You will first be asked to train a simple network through your own implementation of backpropagation.  \n",
    "\n",
    "and we will study one way to get intuition on what the networks are learning, i.e. how they view the world, a concept termed inceptionism by the original google papers. In the second part, we will use a robust version of PCA to extract the foreground from video surveillance sequences. Finally the last exercise   "
   ]
  },
  {
   "cell_type": "markdown",
   "metadata": {},
   "source": [
    "### Exercise 1. (16pts + 3pts) Building and training your neural network\n",
    "\n",
    "The main point of this first exercise is to code and train a simple neural network, including backpropagation, from scratch. \n",
    "\n",
    "Consider the binary dataset shown below. For this exercise, you are asked to build a simple __two hidden layers__ neural network (You have to consider at least two hidden layers for backpropagation to be sufficiently interesting) with __at least two neurons__ in each layer. We will use sigmoids as our activation functions and use the binary cross entropy loss function. Don't forget to put a sigmoid activation to your final neuron in order to get a binary output. "
   ]
  },
  {
   "cell_type": "code",
   "execution_count": null,
   "metadata": {
    "collapsed": true
   },
   "outputs": [],
   "source": [
    "import numpy as np\n",
    "import matplotlib.pyplot as plt\n",
    "\n",
    "import scipy.io\n",
    "mat1 = scipy.io.loadmat('Ex0dataClass1.mat')\n",
    "mat2 = scipy.io.loadmat('Ex0dataClass2.mat')\n",
    "\n",
    "\n",
    "mat1 = mat1['dataClass1']\n",
    "mat2 = mat2['dataClass2']\n",
    "\n",
    "\n",
    "plt.scatter(mat1[:,0], mat1[:,1], c = 'r')\n",
    "plt.scatter(mat2[:,0], mat2[:,1], c = 'b')\n",
    "plt.title('DataSet 1')\n",
    "\n",
    "plt.show()"
   ]
  },
  {
   "cell_type": "markdown",
   "metadata": {},
   "source": [
    "#### Exercise 1.1.1 (8pts) Start by completing the 'cross_entropyLoss' function below "
   ]
  },
  {
   "cell_type": "code",
   "execution_count": null,
   "metadata": {
    "collapsed": true
   },
   "outputs": [],
   "source": [
    "from numpy import linalg as LA\n",
    "from scipy.optimize import minimize\n",
    "\n",
    "\n",
    "def cross_entropyLoss(X, t, W, lambda0):\n",
    "    \"\"\" Define the loss cross entropy loss function with ell_2 regularization \n",
    "    based on data stored in the matrix X with associated targets in t. \n",
    "    The network has weights stored in the vector W (up to you to decide how you organize the weights)\n",
    "    \n",
    "    The function should ouptut the value of the regularized cross entropy loss for \n",
    "    the regularizer stored in lambda0. \n",
    "    \n",
    "    I.e. if you have N points stored in X, you have to return the value of the regularized loss\n",
    "    \n",
    "    l(W) = -1/N sum_{i=1}^N [t_i log(y(x_i)) - (1-t_i)log(1-y(x_i))] + (lambda0/2/N)*( sum_{i=1}^M W_i)\n",
    "    \n",
    "    Also note that when we regularize, we usually don't regularize the first bias. \n",
    "    The point of regularization is indeed to make the curve \n",
    "    \"\"\"\n",
    "    \n",
    "    N = t.size\n",
    "    M = W.size\n",
    "    \n",
    "    #========================================================================================\n",
    "    \n",
    "    # Compute the output of the network and gradient \n",
    "    \n",
    "    \n",
    "    #========================================================================================\n",
    "    \n",
    "    \n",
    "    # y should encode the output of the network for a the vector of inputs X \n",
    "    y = 0 \n",
    "    loss =  - np.true_divide(1, N) * np.dot(t, np.log(y)) + np.dot((1-t), np[.log(1-y)])\n",
    "    weightsR = W\n",
    "    weightsR[0]=0 \n",
    "    regularizationW = np.true_divide(1, M)*np.true_divide(1,2) * LA.norm(weightsR)**2\n",
    "    loss_regularized = loss + regularizationW\n",
    "    grad = np.zeros(W.shape)\n",
    "    \n",
    "    \n",
    "    return loss, gradient \n",
    "\n"
   ]
  },
  {
   "cell_type": "markdown",
   "metadata": {},
   "source": [
    "#### Exercise 1.1.2 (4pts)  Complete and use the 'training' function to get the weights of your network "
   ]
  },
  {
   "cell_type": "code",
   "execution_count": null,
   "metadata": {
    "collapsed": true
   },
   "outputs": [],
   "source": [
    "\n",
    "def training(X, Winit, learning_rate, MaxIter):\n",
    "    '''The function should returned the trained neural network starting with weights \n",
    "    initialized by Winit. To complete the training, we will use the function and gradient of \n",
    "    the binary cross entropy function that you computed above and combine them with the   '''\n",
    "    \n",
    "    f = lambda W: cross_entropyLoss(X, t, W, lambda0):\n",
    "    \n",
    "    \n",
    "    # The Truncated Newton Algorithm (TNC in scipy.optimize) comes with several options \n",
    "    # which you can set, one of those options being the maximum number of iterations\n",
    "    \n",
    "    fmin = minimize(f, Winit, method='TNC', jac=True,\\\n",
    "                    options={'gtol': 1e-6, 'disp': True})\n",
    "    \n",
    "    minimum = minimize(fun=functionHandle, Winit, args=(input_size, hidden_size, num_labels, X, y, learning_rate), \n",
    "                method='TNC', jac=True, options={'maxiter': MaxIter})\n",
    "    \n",
    "    # the optimal weight vector is stored in the ouput minimum.x\n",
    "    \n",
    "    return minimum.x\n"
   ]
  },
  {
   "cell_type": "markdown",
   "metadata": {},
   "source": [
    "#### Exercise 1.1.3. (4pts) Finally, complete the prediction function and check the prediction of your neural network on the test set provided below "
   ]
  },
  {
   "cell_type": "code",
   "execution_count": null,
   "metadata": {
    "collapsed": true
   },
   "outputs": [],
   "source": [
    "\n",
    "import numpy as np\n",
    "import matplotlib.pyplot as plt\n",
    "\n",
    "import scipy.io\n",
    "matTest = scipy.io.loadmat('dataTestEx0.mat')\n",
    "XTest = matTest['dataTest']\n",
    "\n",
    "\n",
    "\n",
    "def prediction(XTest, Wtrained):\n",
    "    \n",
    "    '''This function should return the output of the network y(Wtrained; x) for the points \n",
    "    stored in the validation Matrix XTest'''\n",
    "    \n",
    "    # ===================================================================\n",
    "    \n",
    "    # Complete the function with your own code \n",
    "    \n",
    "    # ===================================================================\n",
    "    \n",
    "    \n",
    "    y = 0 # This line should be replaced with the output of your trained network\n",
    "    \n",
    "    return y"
   ]
  },
  {
   "cell_type": "markdown",
   "metadata": {},
   "source": [
    "#### Bonus 1.2. (3pts) Rationalizing networks architectures\n",
    "\n",
    "In this bonus, we would like to build a neural network that is given by a succession of linear filters (as usual) and +1/-1 step functions (not Relus!). Given this specification, Try to determine what would be the simplest structure that can separate the two classes given in the 'BonusdataClass1' and 'BonusdataClass2' below. \n",
    "\n",
    "(hint: There is no need to build the network, just try to answer the question. Think of the network of a combination/cascade of separating planes)\n"
   ]
  },
  {
   "cell_type": "code",
   "execution_count": null,
   "metadata": {
    "collapsed": true
   },
   "outputs": [],
   "source": [
    "import numpy as np\n",
    "import matplotlib.pyplot as plt\n",
    "\n",
    "import scipy.io\n",
    "mat1 = scipy.io.loadmat('BonusdataClass1.mat')\n",
    "mat2 = scipy.io.loadmat('BonusdataClass2.mat')\n",
    "\n",
    "mat1 = mat1['BonusdataClass1']\n",
    "mat2 = mat2['BonusdataClass2']\n",
    "\n",
    "plt.scatter(mat1[:,0], mat1[:,1], c = 'r')\n",
    "plt.scatter(mat2[:,0], mat2[:,1], c = 'b')\n",
    "plt.title('DataSet 2')\n",
    "plt.show()\n",
    "\n"
   ]
  },
  {
   "cell_type": "markdown",
   "metadata": {},
   "source": [
    "### Exercise 2. (9pts + 3pts) Après l'effort le Réconfort: Inceptionism"
   ]
  },
  {
   "cell_type": "markdown",
   "metadata": {
    "collapsed": true
   },
   "source": [
    "In this exercise, we are interested in replicating an approach known as inceptionism or activation maximization which gives an insight on how neural networks 'see' the world. The idea is that once a network has been trained, one can try to understand what are the input images that will lead to a maximum value of any given activation $\\sigma(\\sum_{i=1}^N w_{ij}x_j)$ in the network. If we choose the activation to be the one attached to the output unit, then such a maximization should generate the image that is the most likely to be classified as the object encoded by the corresponding output/label (e.g. 'plane', 'boat',...)"
   ]
  },
  {
   "cell_type": "markdown",
   "metadata": {},
   "source": [
    "<img src=\"deepdream1.jpeg\" alt=\"Drawing\" style=\"width: 400px;\"/>\n",
    "\n",
    "image credit:  [https://www.redsharknews.com/](https://www.redsharknews.com/technology/item/2705-this-may-be-the-weirdest-video-you-have-ever-seen) "
   ]
  },
  {
   "cell_type": "markdown",
   "metadata": {},
   "source": [
    "On top of providing the building blocks for the assembling of neural networks, Keras also provides pretrained versions of some popular neural network architectures, for some specific datasets. \n",
    "\n",
    "#### Question 2.1: (1pt) Getting some intuition on the VGG16 model\n",
    "\n",
    "As an illustration of this, use the lines below to load the VGG16 model which has weights pretrained on ImageNet. There are two functions we can use to visualize the VGG network. The first one is 'print(model.summary())'. The second one is 'plot_model(model, to_file='pretrained_vgg.png')'. Use those lines to get some intuition on the VGG model. What do the dimensions of each filter correspond to ?"
   ]
  },
  {
   "cell_type": "code",
   "execution_count": null,
   "metadata": {
    "collapsed": true
   },
   "outputs": [],
   "source": [
    "from tensorflow.keras.applications.vgg16 import VGG16\n",
    "model = VGG16()\n",
    "print(model.summary())\n",
    "\n",
    "# build the VGG16 network\n",
    "model = VGG16(include_top=False, weights='imagenet')"
   ]
  },
  {
   "cell_type": "code",
   "execution_count": 8,
   "metadata": {
    "collapsed": true
   },
   "outputs": [],
   "source": [
    "from tensorflow.keras.utils import plot_model\n",
    "plot_model(model, to_file='pretrained_vgg.png')"
   ]
  },
  {
   "cell_type": "markdown",
   "metadata": {},
   "source": [
    "In order to access the output of specific layers, we will want to keep a list of those layers. Use the line below to store the name of each layer in the dictionnary 'layer_dict'.  "
   ]
  },
  {
   "cell_type": "code",
   "execution_count": null,
   "metadata": {
    "collapsed": true,
    "scrolled": true
   },
   "outputs": [],
   "source": [
    "layer_dict = dict([(layer.name, layer) for layer in model.layers])"
   ]
  },
  {
   "cell_type": "markdown",
   "metadata": {},
   "source": [
    "#### Exercise 2.2. (2pts) Implementing Activation Maximization through the Backend \n",
    "\n",
    "Another interesting feature of Keras is the \"backend\". Although the first objective of Keras is to provide the high level building blocks to develop deep learning models, it also provides some access to lower level functions through its backend engines which handle tensor manipulation. Keras has three backend implementations : TensorFlow, Theano and CNTK. The backend API provide some useful functions which are ususally used to make the function that are written compatible with Theano or TensorFlow. \n",
    "\n",
    "In this exercise, we will use several function from the backend to access and optimize the ouput of particular layers in the network. The lines below define a function 'iterate' which when applied to an input of dimension equal to the input dimension of VGG16, return the output of the layer 'block5_conv1' and the corresponding gradient. I.e. if you apply the function 'iterate' to an image of dimension equal to the input dimension of the 'input_5' layer, i.e. iterate([input_img_data]) you get an output of the form [loss_value, grads_value] \n",
    "\n",
    "\n",
    "#### Using the lines below apply a few steps of activation maximization (taking 20 iterations with a step size of '1' is a good start)"
   ]
  },
  {
   "cell_type": "code",
   "execution_count": 93,
   "metadata": {
    "collapsed": true
   },
   "outputs": [],
   "source": [
    "from tensorflow.keras import backend as K\n",
    "import numpy as np\n",
    "\n",
    "layer_output = layer_dict['block5_conv1'].output\n",
    "\n",
    "# Here we choose the first filter in the layer 'block5_conv1'\n",
    "loss = K.mean(layer_output[:, :, :, 0])\n",
    "\n",
    "img_width = 224\n",
    "img_height = 224\n",
    "input_img_data = np.random.random((1,img_width, img_height,3)) * 20 + 128\n",
    "\n",
    "\n",
    "\n",
    "inp = model.input   \n",
    "grads = K.gradients(loss, inp)[0]\n",
    "grads /= (K.sqrt(K.mean(K.square(grads))) + 1e-5)\n",
    "\n",
    "iterate = K.function([model.input], [loss, grads])\n",
    "\n",
    "#==========================================================================================\n",
    "\n",
    "# Put your code here\n",
    "\n",
    "#==========================================================================================\n"
   ]
  },
  {
   "cell_type": "markdown",
   "metadata": {},
   "source": [
    "#### Exercise 2.3. (1pt) Displaying the resulting image \n",
    "\n",
    "Use the function below to preprocess your result and display the result using the imshow function from pyplot. "
   ]
  },
  {
   "cell_type": "code",
   "execution_count": null,
   "metadata": {
    "collapsed": true
   },
   "outputs": [],
   "source": [
    "from scipy.misc import imsave \n",
    "import matplotlib.pyplot as plt\n",
    "\n",
    "# util function to convert a tensor into a valid image\n",
    "def deprocess_image(x):\n",
    "    # normalize tensor: center on 0., ensure std is 0.1\n",
    "    x -= x.mean()\n",
    "    x /= (x.std() + 1e-5)\n",
    "    x *= 0.1\n",
    "\n",
    "    # clip to [0, 1]\n",
    "    x += 0.5\n",
    "    x = np.clip(x, 0, 1)\n",
    "\n",
    "    # convert to RGB array\n",
    "    x *= 255\n",
    "    #x = x.transpose((1, 2, 0))\n",
    "    x = np.clip(x, 0, 255).astype('uint8')\n",
    "    return x"
   ]
  },
  {
   "cell_type": "markdown",
   "metadata": {},
   "source": [
    "#### Exercise 2.4. (2pts) Try a couple more filters of your choice."
   ]
  },
  {
   "cell_type": "code",
   "execution_count": null,
   "metadata": {
    "collapsed": true
   },
   "outputs": [],
   "source": [
    "# put your code here\n",
    "\n"
   ]
  },
  {
   "cell_type": "markdown",
   "metadata": {},
   "source": [
    "#### Exercise 2.5. (3pts) Maximizing the class\n",
    "\n",
    "Now that we found the images that are maximizing the outputs of particular layers, we want to understand what are the images that are the most likely to be classified in each of the particular classes. A first easy way to do this is to use the line below\n",
    "\n",
    "loss = K.mean(model.output[:, output_index])\n"
   ]
  },
  {
   "cell_type": "markdown",
   "metadata": {},
   "source": [
    "#### Bonus 2.6. (3pts) One step futher \n",
    "\n",
    "In the previous step, what we have done is maximizing the feature (i.e the result of the feature extraction step). In order to understand how the network understands each class, we could instead maximize the result of the classification step (i.e the final label returned by the network). Code this second approach below"
   ]
  },
  {
   "cell_type": "code",
   "execution_count": null,
   "metadata": {
    "collapsed": true
   },
   "outputs": [],
   "source": [
    "# put your code here\n",
    "\n"
   ]
  },
  {
   "cell_type": "markdown",
   "metadata": {},
   "source": [
    "### Exercise 3. (10pts) Robust PCA for video surveillance \n",
    "\n",
    "We have seen that PCA retains an approximation of an original dataset $X$ by focusing on the largest singular values. Such an order $K$ approximation can be obtained from the singular value decomposition $\\boldsymbol U \\boldsymbol \\Sigma \\boldsymbol V^T$ by truncating $\\boldsymbol U$ to the first $K$ columns, retaining the $K\\times K$ diagonal matrix $\\boldsymbol \\Sigma_k$ as well as the first $K$ rows of $\\boldsymbol V^T$, $\\boldsymbol V_k^T$, and writing the approximation as $\\boldsymbol U_k \\boldsymbol \\Sigma_k \\boldsymbol V^T_k$. This approach is particularly efficient when each of the feature vectors (or images in this case) are close to each other. When there is sharp variations across images, such as when an object appears, move throughout the images and then dissapears, a simple PCA does not suffice anymore and one might want to extend it to something more robust. The escalator sequence below is an example of such sequence. "
   ]
  },
  {
   "cell_type": "code",
   "execution_count": 157,
   "metadata": {},
   "outputs": [
    {
     "name": "stdout",
     "output_type": "stream",
     "text": [
      "(20800,)\n"
     ]
    },
    {
     "data": {
      "image/png": "[encoded data removed]",
      "text/plain": [
       "<Figure size 432x288 with 1 Axes>"
      ]
     },
     "metadata": {},
     "output_type": "display_data"
    }
   ],
   "source": [
    "import numpy as np\n",
    "import cv2\n",
    "\n",
    "import numpy as np\n",
    "import cv2\n",
    "import matplotlib.pyplot as plt\n",
    "\n",
    "# read video\n",
    "\n",
    "import scipy.io\n",
    "movie = scipy.io.loadmat('escalator_data.mat')\n",
    "#frame0 = \n",
    "print(np.shape(movie['X'][:,0]))\n",
    "\n",
    "plt.imshow(movie['X'][:,0].reshape((160,130)).swapaxes(0, 1), cmap='gray')\n",
    "plt.show()"
   ]
  },
  {
   "cell_type": "markdown",
   "metadata": {},
   "source": [
    "The idea of Robust PCA is to add a \"sparse\" component to the traditional PCA decomposition. Given a collection of images that we store as the columns of the matrix $X$, one then looks for a decomposition\n",
    " \n",
    "\\begin{align} \n",
    "\\boldsymbol X = \\boldsymbol Y + \\boldsymbol S\n",
    "\\end{align}\n",
    "\n",
    "Where $Y$ is a matrix which encode the original PCA model, and thus encodes the part of the images that remains approximately constant throughout the sequence, and $\\boldsymbol S$ is the sparse part (i.e a sequence of images that are varying through the sequence but only at a precise position in the images, that is to say with most of the pixels being zero). To recover each part one approach is to proceed as follows, see [Candes et al.](https://arxiv.org/pdf/0912.3599.pdf)\n",
    "\n",
    "We let $\\mu$ to denote the parameter that controls the amount of dara we want to store in the sparse foreground extraction part, $\\boldsymbol S$. The algorithm proceeds as follows\n",
    "\n",
    "\n",
    "__Initialize__ $Y$, $S$ to $0$\n",
    "\n",
    "__Step 1.__ Compute the truncated SVD of the matrix $X - S - \\mu^{-1}Y$, i.e. let $X - S - \\mu^{-1}Y = U\\Sigma V^T$. The truncated SVD is then obtained by replacing the diagonal matrix of singular values with the truncation \n",
    "$$ \n",
    "\\sigma \\leftarrow \\text{sign}(\\sigma)\\max(|\\sigma| - \\mu, 0)  \n",
    "$$\n",
    "\n",
    "and store it in $L$, $L = SVD_{\\mu}(X - S - \\mu^{-1}Y)$ \n",
    "\n",
    "\n",
    "\n",
    "__Step 2.__ Apply the thresholding operator $f(x) = \\text{sign}(x)\\max(|x| - \\lambda \\mu, 0) $ with threshold $\\lambda\\mu$ to the entries of the matrix $X - L + \\mu^{-1}Y$\n",
    "\n",
    "__Step 3.__ Update the matrix $Y$ as $Y \\leftarrow Y + \\mu(X - L - S)$\n",
    "\n",
    "\n",
    "A good approach to initialize the parameters is to take $lambda = 1/\\max(m,n)$ where $\\max(m,n)$ is the max number of rows or columns of the data matrix. We can then set $\\mu = 0.25*(m*n)/(\\sum_{i,j}|X_ij|)$. One can then terminate the algorithm when $\\|X-L-S\\|_F \\leq  \\delta \\|X\\|_F$ where $\\|X\\|_F$ is the Frobenius norm of the matrix and $\\delta$ can be taken for example as $10^{-7}$. \n",
    "\n",
    "\n",
    "Additional indications: if computing the full SVD from linalg is too expensive, you can replace it with the fast randomized PCA from facebook (see [fbpca](https://fbpca.readthedocs.io/en/latest/)) or a sparse SVD.\n"
   ]
  },
  {
   "cell_type": "markdown",
   "metadata": {},
   "source": [
    "#### Exercise 3.1. (8pts) Complete the code below which separates the sparse part from the PCA decomposition"
   ]
  },
  {
   "cell_type": "code",
   "execution_count": null,
   "metadata": {
    "collapsed": true
   },
   "outputs": [],
   "source": [
    "import numpy as np \n",
    "from __future__ import division\n",
    "from scipy.sparse.linalg import svds\n",
    "\n",
    "\n",
    "\n",
    "\n",
    "def robustPCA(X, delta=1e-6, mu=None, maxiter=500):\n",
    "\n",
    "    '''\n",
    "    The function should return a PCA like part stored in 'L' with only a few singular values \n",
    "    that are non zero and a sparse sequence 'S' in which the images are black except w very \n",
    "    limited number of pixels\n",
    "    '''\n",
    "    \n",
    "    \n",
    "    # Initialize the tuning parameters.\n",
    "    lam = # put your value for lambda\n",
    "    if mu is None:\n",
    "        \n",
    "        # complete with your value for mu\n",
    "        \n",
    "    # Convergence criterion.\n",
    "    norm = np.sum(X ** 2)\n",
    "\n",
    "    # Iterate.\n",
    "    i = 0\n",
    "    rank = np.min(shape)\n",
    "    S = np.zeros(shape)\n",
    "    Y = np.zeros(shape)\n",
    "    while i < max(maxiter, 1):\n",
    "        \n",
    "        \n",
    "        # Step 1. Compute and truncate the SVD\n",
    "        \n",
    "        \n",
    "\n",
    "        # Step 2. Truncate the entries of X - L + mu^(-1)Y \n",
    "        \n",
    "\n",
    "        # Step 3. Update the matrix Y\n",
    "        \n",
    "        \n",
    "\n",
    "        # Convergence criterion\n",
    "        err = np.sqrt(np.sum(step ** 2) / norm)\n",
    "        if err < delta:\n",
    "            break\n",
    "        i += 1\n",
    "\n",
    "    if i >= maxiter:\n",
    "        break\n",
    "        \n",
    "    return L, S\n"
   ]
  },
  {
   "cell_type": "markdown",
   "metadata": {},
   "source": [
    "#### Exercise 3.2. (2pts) Apply your function to the escalator sequence and display the result on at least one frame. Use subplot to display the extracted background and its corresponding foreground side by side. "
   ]
  },
  {
   "cell_type": "code",
   "execution_count": null,
   "metadata": {
    "collapsed": true
   },
   "outputs": [],
   "source": [
    "# put your code here"
   ]
  },
  {
   "cell_type": "markdown",
   "metadata": {},
   "source": [
    "## Exercise 4 (5pts) Manifold Learning\n",
    "\n",
    "Download [Columbia University COIL-20 Image Library](http://www.cs.columbia.edu/CAVE/software/softlib/coil-20.php). In this last exercise, you will get to apply some of the methods that were covered in the last part of the course. \n",
    "\n",
    "\n",
    "#### Exercise 4.1. (3pts) Extracting the motion\n",
    "\n",
    "Pick up any image of your choice (some images might be easier than others) and load the whole sequence corresponding to the rotation of the object you chose. Then use one of the manifold learning methods that were covered in class and implement it to get a low dimensional representation of the motion. If you put yourself in the position of the viewer and not the object, you can think of each image as a frame captured by a moving robot whose trajectory you want to track.\n",
    "\n",
    "What is the motion in this case? How many dimensions do you think you would need to capture that motion? Can your Manifold learning approach recover that motion?\n",
    "\n",
    "\n",
    "#### Exercise 4.2. (2pt) Predicting the orientation.\n",
    "\n",
    "Repeat the steps that you followed in 4.1 but now split the sequence into a size $N-1$ training set and a size $1$ validation set. Assign angles to the images in the training set based on how each image looks to you. Then use your manifold learning algorithm to recover the angle of the validation frame. "
   ]
  },
  {
   "cell_type": "code",
   "execution_count": 146,
   "metadata": {
    "collapsed": true
   },
   "outputs": [],
   "source": [
    "import cv2\n",
    "from skimage.color import rgb2gray\n",
    "\n",
    "# Checking size. Here we take the first 71 images (the Duck sequence)  \n",
    "\n",
    "s1 = \"coil-20-proc/obj1__%d.png\" %i\n",
    "im = cv2.imread(s1)\n",
    "\n",
    "sz = np.shape(im)\n",
    "Sequence = np.zeros((sz[0]*sz[1], 71))\n",
    "\n",
    "for i in range(0,71):\n",
    "    \n",
    "    s1 = \"coil-20-proc/obj1__%d.png\" %i\n",
    "    im = rgb2gray(cv2.imread(s1))\n",
    "    Sequence[:,i] = im.flatten()\n",
    "    \n",
    "    \n"
   ]
  }
 ],
 "metadata": {
  "kernelspec": {
   "display_name": "Python 2",
   "language": "python",
   "name": "python2"
  },
  "language_info": {
   "codemirror_mode": {
    "name": "ipython",
    "version": 2
   },
   "file_extension": ".py",
   "mimetype": "text/x-python",
   "name": "python",
   "nbconvert_exporter": "python",
   "pygments_lexer": "ipython2",
   "version": "2.7.13"
  }
 },
 "nbformat": 4,
 "nbformat_minor": 2
}
